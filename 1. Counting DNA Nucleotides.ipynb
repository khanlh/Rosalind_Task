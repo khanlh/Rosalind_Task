{
 "cells": [
  {
   "cell_type": "code",
   "execution_count": 10,
   "id": "aa119b5a",
   "metadata": {},
   "outputs": [
    {
     "name": "stdout",
     "output_type": "stream",
     "text": [
      "236 202 217 210\n"
     ]
    }
   ],
   "source": [
    "with open ('rosalind_dna.txt', 'r') as f:\n",
    "    s = f.read()\n",
    "\n",
    "count_a, count_t, count_g, count_c = 0, 0, 0, 0\n",
    "for i in range (len(s)):\n",
    "    if s[i] == \"A\":\n",
    "        count_a =  count_a +1\n",
    "    if s[i] == \"T\":\n",
    "        count_t =  count_t +1\n",
    "    if s[i] == \"G\":\n",
    "        count_g =  count_g +1\n",
    "    if s[i] == \"C\":\n",
    "        count_c =  count_c +1\n",
    "            \n",
    "print(count_a, count_t, count_g, count_c)"
   ]
  },
  {
   "cell_type": "code",
   "execution_count": null,
   "id": "733aec26",
   "metadata": {},
   "outputs": [],
   "source": []
  }
 ],
 "metadata": {
  "kernelspec": {
   "display_name": "Python 3 (ipykernel)",
   "language": "python",
   "name": "python3"
  },
  "language_info": {
   "codemirror_mode": {
    "name": "ipython",
    "version": 3
   },
   "file_extension": ".py",
   "mimetype": "text/x-python",
   "name": "python",
   "nbconvert_exporter": "python",
   "pygments_lexer": "ipython3",
   "version": "3.11.5"
  }
 },
 "nbformat": 4,
 "nbformat_minor": 5
}
