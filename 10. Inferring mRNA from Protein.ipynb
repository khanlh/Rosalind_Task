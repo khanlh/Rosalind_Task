{
 "cells": [
  {
   "cell_type": "code",
   "execution_count": 2,
   "id": "5c2ea63f",
   "metadata": {},
   "outputs": [],
   "source": [
    "def codon_frequence():                                         \n",
    "    frequence = {}                                             \n",
    "    for k, v in codons.items():                                \n",
    "        if v not in frequence:                                 \n",
    "            frequence[v] = 0                                   \n",
    "        frequence[v] += 1                                      \n",
    "    return (frequence)  "
   ]
  },
  {
   "cell_type": "code",
   "execution_count": 3,
   "id": "f13952c6",
   "metadata": {},
   "outputs": [],
   "source": [
    "def possible_sequences(sequence):                              \n",
    "    f = codon_frequence()                                      \n",
    "    n = f['Stop']                                              \n",
    "    for aa in sequence:                                        \n",
    "        n *= f[aa]                                             \n",
    "    return (n % 1000000)"
   ]
  },
  {
   "cell_type": "code",
   "execution_count": null,
   "id": "0650fa4d",
   "metadata": {},
   "outputs": [],
   "source": []
  },
  {
   "cell_type": "code",
   "execution_count": 1,
   "id": "be27b5c8",
   "metadata": {},
   "outputs": [],
   "source": [
    "codons = {                                                     \n",
    "    'UUU': 'F',     'CUU': 'L',     'AUU': 'I',     'GUU': 'V',\n",
    "    'UUC': 'F',     'CUC': 'L',     'AUC': 'I',     'GUC': 'V',\n",
    "    'UUA': 'L',     'CUA': 'L',     'AUA': 'I',     'GUA': 'V',\n",
    "    'UUG': 'L',     'CUG': 'L',     'AUG': 'M',     'GUG': 'V',\n",
    "    'UCU': 'S',     'CCU': 'P',     'ACU': 'T',     'GCU': 'A',\n",
    "    'UCC': 'S',     'CCC': 'P',     'ACC': 'T',     'GCC': 'A',\n",
    "    'UCA': 'S',     'CCA': 'P',     'ACA': 'T',     'GCA': 'A',\n",
    "    'UCG': 'S',     'CCG': 'P',     'ACG': 'T',     'GCG': 'A',\n",
    "    'UAU': 'Y',     'CAU': 'H',     'AAU': 'N',     'GAU': 'D',\n",
    "    'UAC': 'Y',     'CAC': 'H',     'AAC': 'N',     'GAC': 'D',\n",
    "    'UAA': 'Stop',  'CAA': 'Q',     'AAA': 'K',     'GAA': 'E',\n",
    "    'UAG': 'Stop',  'CAG': 'Q',     'AAG': 'K',     'GAG': 'E',\n",
    "    'UGU': 'C',     'CGU': 'R',     'AGU': 'S',     'GGU': 'G',\n",
    "    'UGC': 'C',     'CGC': 'R',     'AGC': 'S',     'GGC': 'G',\n",
    "    'UGA': 'Stop',  'CGA': 'R',     'AGA': 'R',     'GGA': 'G',\n",
    "    'UGG': 'W',     'CGG': 'R',     'AGG': 'R',     'GGG': 'G' \n",
    "}"
   ]
  },
  {
   "cell_type": "code",
   "execution_count": 4,
   "id": "63b92e3f",
   "metadata": {},
   "outputs": [],
   "source": [
    "with open('rosalind_mrna.txt', 'r') as f:                         \n",
    "    prot_seq = f.read().strip() "
   ]
  },
  {
   "cell_type": "code",
   "execution_count": 5,
   "id": "8828b758",
   "metadata": {},
   "outputs": [
    {
     "name": "stdout",
     "output_type": "stream",
     "text": [
      "494208\n"
     ]
    }
   ],
   "source": [
    "print(possible_sequences(prot_seq))  "
   ]
  },
  {
   "cell_type": "code",
   "execution_count": null,
   "id": "4dac29ca",
   "metadata": {},
   "outputs": [],
   "source": []
  }
 ],
 "metadata": {
  "kernelspec": {
   "display_name": "Python 3 (ipykernel)",
   "language": "python",
   "name": "python3"
  },
  "language_info": {
   "codemirror_mode": {
    "name": "ipython",
    "version": 3
   },
   "file_extension": ".py",
   "mimetype": "text/x-python",
   "name": "python",
   "nbconvert_exporter": "python",
   "pygments_lexer": "ipython3",
   "version": "3.11.5"
  }
 },
 "nbformat": 4,
 "nbformat_minor": 5
}
