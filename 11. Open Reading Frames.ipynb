{
 "cells": [
  {
   "cell_type": "code",
   "execution_count": 1,
   "id": "68d4eed4",
   "metadata": {},
   "outputs": [],
   "source": [
    "import re                                                 \n",
    "from Bio import SeqIO                                     \n",
    "from Bio.Seq import Seq      "
   ]
  },
  {
   "cell_type": "code",
   "execution_count": 4,
   "id": "2f0b1af8",
   "metadata": {},
   "outputs": [],
   "source": [
    "from Bio.SeqRecord import SeqRecord"
   ]
  },
  {
   "cell_type": "code",
   "execution_count": 17,
   "id": "23a0742a",
   "metadata": {},
   "outputs": [],
   "source": [
    "record = SeqIO.read('rosalind_orf.txt', 'fasta')          \n",
    "pattern = re.compile(r'(?=(ATG(?:...)*?)(?=TAG|TGA|TAA))')\n",
    "frw_seq = record.seq                                      \n",
    "rev_seq = frw_seq.reverse_complement()                    \n",
    "sequences = []       "
   ]
  },
  {
   "cell_type": "code",
   "execution_count": 18,
   "id": "859c5fd0",
   "metadata": {},
   "outputs": [],
   "source": [
    "for m in re.findall(pattern, str(frw_seq)):               \n",
    "    dna_seq = Seq(m, SeqRecord)                         \n",
    "    prot_seq = dna_seq.translate()                        \n",
    "    if prot_seq not in sequences:                         \n",
    "        sequences.append(prot_seq) "
   ]
  },
  {
   "cell_type": "code",
   "execution_count": null,
   "id": "87612adb",
   "metadata": {},
   "outputs": [],
   "source": []
  },
  {
   "cell_type": "code",
   "execution_count": 19,
   "id": "8856bbc7",
   "metadata": {},
   "outputs": [],
   "source": [
    "for n in re.findall(pattern, str(rev_seq)):               \n",
    "    rev_dna_seq = Seq(n, SeqRecord)                     \n",
    "    rev_prot_seq = rev_dna_seq.translate()                \n",
    "    if rev_prot_seq not in sequences:                     \n",
    "        sequences.append(rev_prot_seq)  "
   ]
  },
  {
   "cell_type": "code",
   "execution_count": null,
   "id": "b9b035a2",
   "metadata": {},
   "outputs": [],
   "source": []
  },
  {
   "cell_type": "code",
   "execution_count": 20,
   "id": "b4c7623d",
   "metadata": {},
   "outputs": [
    {
     "name": "stdout",
     "output_type": "stream",
     "text": [
      "MLKSCSYVVFESYQAGIGTVLTRCYESPAVQRCVNEVAFPS\n",
      "MLRVSSGPEVRERSRFPKLSTSAHRAWWKFGAIGHHHGALSCCE\n",
      "MSCDETKNVTTAVFITYIPIIHKEH\n",
      "MYMLPVNGGPR\n",
      "MLPVNGGPR\n",
      "MKQ\n",
      "MNT\n",
      "MRSSCRVL\n",
      "MQNNAERRH\n",
      "MSSPFVQPLRTRRNCFFTHCRYPFSGQ\n",
      "MPDILVVQRCRRGGAYTARRGAQERHTGQLRTNML\n",
      "ML\n",
      "MGEDDPRI\n",
      "MEG\n",
      "MSGMMLRLC\n",
      "MMLRLC\n",
      "MLRLC\n",
      "MNVSRYTMSARFGLEHIGSQLSRMSFLGTTSRSVGPSPSTPLNYEDVRHQSLLPRLSVARHRWATYH\n",
      "MSARFGLEHIGSQLSRMSFLGTTSRSVGPSPSTPLNYEDVRHQSLLPRLSVARHRWATYH\n",
      "MSFLGTTSRSVGPSPSTPLNYEDVRHQSLLPRLSVARHRWATYH\n",
      "MSGIKVSSLDCPWLDTGGLRITDR\n",
      "METTSMSPFGVILHLPNAVVLSCALARAHDKTTAFPYASLRHSSNNVPPGEIRAKYSLLHQEPMYLPRTPVDRQHIHY\n",
      "MSPFGVILHLPNAVVLSCALARAHDKTTAFPYASLRHSSNNVPPGEIRAKYSLLHQEPMYLPRTPVDRQHIHY\n",
      "MCHRAKYELSIHCFIRSQCTYRGPPLTGNIYITNALCG\n",
      "MYLPRTPVDRQHIHY\n",
      "MLFVDNRYVSNENRRCHVFCFVATHSQQDSAPW\n",
      "M\n",
      "MKTAVVTFFVSSQLIHNRTVHRGDGR\n",
      "MADSPKFPPGPMSRST\n",
      "MSRST\n",
      "MPAWYDSKTT\n"
     ]
    }
   ],
   "source": [
    "for i, s in enumerate(sequences):                         \n",
    "    print(s) "
   ]
  },
  {
   "cell_type": "code",
   "execution_count": null,
   "id": "19a09a0f",
   "metadata": {},
   "outputs": [],
   "source": []
  }
 ],
 "metadata": {
  "kernelspec": {
   "display_name": "Python 3 (ipykernel)",
   "language": "python",
   "name": "python3"
  },
  "language_info": {
   "codemirror_mode": {
    "name": "ipython",
    "version": 3
   },
   "file_extension": ".py",
   "mimetype": "text/x-python",
   "name": "python",
   "nbconvert_exporter": "python",
   "pygments_lexer": "ipython3",
   "version": "3.11.5"
  }
 },
 "nbformat": 4,
 "nbformat_minor": 5
}
