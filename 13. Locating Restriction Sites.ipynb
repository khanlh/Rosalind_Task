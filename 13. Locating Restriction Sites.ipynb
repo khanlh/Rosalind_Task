{
 "cells": [
  {
   "cell_type": "code",
   "execution_count": 4,
   "id": "04ce65c9",
   "metadata": {},
   "outputs": [],
   "source": [
    "from Bio import SeqIO                           "
   ]
  },
  {
   "cell_type": "code",
   "execution_count": 5,
   "id": "7646ddfa",
   "metadata": {},
   "outputs": [],
   "source": [
    "record = SeqIO.read('rosalind_revp.txt', 'fasta')\n",
    "frw_seq = str(record.seq)                       \n",
    "rev_seq = str(record.seq.complement())  "
   ]
  },
  {
   "cell_type": "code",
   "execution_count": 6,
   "id": "82ff9854",
   "metadata": {},
   "outputs": [
    {
     "name": "stdout",
     "output_type": "stream",
     "text": [
      "1 4\n",
      "2 4\n",
      "16 4\n",
      "20 4\n",
      "27 4\n",
      "92 4\n",
      "103 4\n",
      "130 4\n",
      "136 4\n",
      "142 4\n",
      "154 6\n",
      "155 4\n",
      "157 4\n",
      "171 4\n",
      "172 4\n",
      "178 4\n",
      "191 4\n",
      "205 6\n",
      "206 4\n",
      "265 4\n",
      "271 4\n",
      "272 4\n",
      "280 4\n",
      "293 8\n",
      "294 6\n",
      "295 4\n",
      "307 4\n",
      "314 4\n",
      "317 4\n",
      "329 4\n",
      "352 4\n",
      "382 4\n",
      "395 4\n",
      "418 4\n",
      "437 4\n",
      "456 6\n",
      "457 4\n",
      "468 12\n",
      "469 4\n",
      "469 10\n",
      "470 8\n",
      "471 6\n",
      "472 4\n",
      "475 4\n",
      "503 6\n",
      "504 4\n",
      "518 4\n",
      "566 6\n",
      "567 4\n",
      "570 4\n",
      "583 4\n",
      "591 4\n",
      "597 6\n",
      "598 4\n",
      "613 4\n",
      "620 4\n",
      "627 4\n",
      "635 4\n",
      "639 6\n",
      "640 4\n",
      "652 4\n",
      "655 4\n",
      "686 4\n",
      "706 4\n",
      "717 4\n",
      "732 4\n",
      "735 4\n",
      "751 6\n",
      "752 4\n",
      "753 6\n",
      "754 4\n",
      "768 4\n",
      "768 8\n",
      "769 6\n",
      "770 4\n",
      "772 4\n",
      "777 4\n",
      "802 6\n",
      "803 4\n",
      "808 6\n",
      "809 4\n",
      "817 4\n",
      "867 4\n",
      "900 4\n",
      "938 4\n",
      "943 4\n"
     ]
    }
   ],
   "source": [
    "for i in range(len(frw_seq)):                   \n",
    "    for j in range(i, len(frw_seq)):            \n",
    "        m = frw_seq[i:j + 1]                    \n",
    "        rev_m = rev_seq[i:j + 1]                \n",
    "        if len(m) >= 4 and len(m) <= 12:        \n",
    "            if m == rev_m[::-1]:                \n",
    "                print(i + 1, len(m)) "
   ]
  },
  {
   "cell_type": "code",
   "execution_count": null,
   "id": "ae8b7bea",
   "metadata": {},
   "outputs": [],
   "source": []
  }
 ],
 "metadata": {
  "kernelspec": {
   "display_name": "Python 3 (ipykernel)",
   "language": "python",
   "name": "python3"
  },
  "language_info": {
   "codemirror_mode": {
    "name": "ipython",
    "version": 3
   },
   "file_extension": ".py",
   "mimetype": "text/x-python",
   "name": "python",
   "nbconvert_exporter": "python",
   "pygments_lexer": "ipython3",
   "version": "3.11.5"
  }
 },
 "nbformat": 4,
 "nbformat_minor": 5
}
