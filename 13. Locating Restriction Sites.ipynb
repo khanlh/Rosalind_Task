{
 "cells": [
  {
   "cell_type": "code",
   "execution_count": 1,
   "id": "04ce65c9",
   "metadata": {},
   "outputs": [],
   "source": [
    "from Bio import SeqIO                           "
   ]
  },
  {
   "cell_type": "code",
   "execution_count": 5,
   "id": "7646ddfa",
   "metadata": {},
   "outputs": [],
   "source": [
    "record = SeqIO.read('rosalind_revp.txt', 'fasta')\n",
    "frw_seq = str(record.seq)                       \n",
    "rev_seq = str(record.seq.complement())  "
   ]
  },
  {
   "cell_type": "code",
   "execution_count": null,
   "id": "0b83a7b1",
   "metadata": {},
   "outputs": [],
   "source": []
  },
  {
   "cell_type": "code",
   "execution_count": null,
   "id": "f94318f8",
   "metadata": {},
   "outputs": [],
   "source": []
  },
  {
   "cell_type": "code",
   "execution_count": 6,
   "id": "82ff9854",
   "metadata": {},
   "outputs": [
    {
     "name": "stdout",
     "output_type": "stream",
     "text": [
      "1 4\n",
      "18 4\n",
      "27 4\n",
      "54 4\n",
      "69 4\n",
      "72 4\n",
      "107 4\n",
      "121 4\n",
      "195 4\n",
      "273 6\n",
      "274 4\n",
      "279 4\n",
      "286 4\n",
      "309 4\n",
      "318 4\n",
      "331 4\n",
      "333 8\n",
      "334 6\n",
      "335 4\n",
      "372 6\n",
      "373 4\n",
      "411 4\n",
      "416 12\n",
      "417 10\n",
      "418 8\n",
      "419 6\n",
      "420 4\n",
      "439 6\n",
      "440 4\n",
      "470 4\n",
      "482 4\n",
      "552 6\n",
      "553 4\n",
      "562 4\n",
      "584 6\n",
      "585 4\n",
      "609 4\n",
      "635 6\n",
      "636 4\n",
      "640 4\n",
      "678 4\n",
      "716 4\n",
      "734 4\n",
      "737 4\n",
      "746 6\n",
      "747 4\n",
      "755 4\n",
      "757 4\n",
      "759 6\n",
      "760 4\n",
      "808 4\n",
      "823 4\n",
      "839 4\n"
     ]
    }
   ],
   "source": [
    "for i in range(len(frw_seq)):                   \n",
    "    for j in range(i, len(frw_seq)):            \n",
    "        m = frw_seq[i:j + 1]                    \n",
    "        rev_m = rev_seq[i:j + 1]                \n",
    "        if len(m) >= 4 and len(m) <= 12:        \n",
    "            if m == rev_m[::-1]:                \n",
    "                print(i + 1, len(m)) "
   ]
  },
  {
   "cell_type": "code",
   "execution_count": null,
   "id": "ae8b7bea",
   "metadata": {},
   "outputs": [],
   "source": []
  }
 ],
 "metadata": {
  "kernelspec": {
   "display_name": "Python 3 (ipykernel)",
   "language": "python",
   "name": "python3"
  },
  "language_info": {
   "codemirror_mode": {
    "name": "ipython",
    "version": 3
   },
   "file_extension": ".py",
   "mimetype": "text/x-python",
   "name": "python",
   "nbconvert_exporter": "python",
   "pygments_lexer": "ipython3",
   "version": "3.11.5"
  }
 },
 "nbformat": 4,
 "nbformat_minor": 5
}
