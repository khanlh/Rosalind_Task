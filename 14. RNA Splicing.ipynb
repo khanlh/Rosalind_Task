{
 "cells": [
  {
   "cell_type": "code",
   "execution_count": 1,
   "id": "4512d2d4",
   "metadata": {},
   "outputs": [],
   "source": [
    "from Bio import SeqIO                          \n",
    "from Bio.Seq import Seq   \n",
    "from Bio.SeqRecord import SeqRecord"
   ]
  },
  {
   "cell_type": "code",
   "execution_count": 2,
   "id": "4f7db86a",
   "metadata": {},
   "outputs": [],
   "source": [
    "sequences = []                                 \n",
    "handle = open('rosalind_splc.txt', 'r')         \n",
    "for record in SeqIO.parse(handle, 'fasta'):    \n",
    "    sequence = ''                              \n",
    "    for nt in record.seq:                      \n",
    "        sequence += nt                         \n",
    "    sequences.append(sequence)                 \n",
    "handle.close()                                 "
   ]
  },
  {
   "cell_type": "code",
   "execution_count": 3,
   "id": "ad9575cd",
   "metadata": {},
   "outputs": [],
   "source": [
    "long_seq = sequences[0]                        \n",
    "introns = sequences[1:]   "
   ]
  },
  {
   "cell_type": "code",
   "execution_count": 4,
   "id": "050490b7",
   "metadata": {},
   "outputs": [],
   "source": [
    "for i in range(len(introns)):                  \n",
    "    long_seq = long_seq.replace(introns[i], '')"
   ]
  },
  {
   "cell_type": "code",
   "execution_count": 5,
   "id": "06596347",
   "metadata": {},
   "outputs": [
    {
     "name": "stdout",
     "output_type": "stream",
     "text": [
      "MYAGTCLGNEYFAQLPLLMNDLTVDIALHTRDRMYAIPLSVTSVLGSGYTCLDRTVAEGSHEIGNRASGLLLYRPITIRIIEHHGSKHHRYVGGNRAGPFSTKYTQTMDADAGAVPIKWDQANTRFFYGRAVRSRSASRWHLAPNYYIKLGAQLLATATIPVSFVVRFAGRCR\n"
     ]
    }
   ],
   "source": [
    "long_seq = Seq(long_seq)                       \n",
    "print(long_seq.translate(to_stop=True)) "
   ]
  },
  {
   "cell_type": "code",
   "execution_count": null,
   "id": "7192471c",
   "metadata": {},
   "outputs": [],
   "source": []
  }
 ],
 "metadata": {
  "kernelspec": {
   "display_name": "Python 3 (ipykernel)",
   "language": "python",
   "name": "python3"
  },
  "language_info": {
   "codemirror_mode": {
    "name": "ipython",
    "version": 3
   },
   "file_extension": ".py",
   "mimetype": "text/x-python",
   "name": "python",
   "nbconvert_exporter": "python",
   "pygments_lexer": "ipython3",
   "version": "3.11.5"
  }
 },
 "nbformat": 4,
 "nbformat_minor": 5
}
