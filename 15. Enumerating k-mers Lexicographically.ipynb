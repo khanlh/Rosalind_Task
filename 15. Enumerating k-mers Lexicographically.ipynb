{
 "cells": [
  {
   "cell_type": "code",
   "execution_count": 15,
   "id": "bfa4a394",
   "metadata": {},
   "outputs": [],
   "source": [
    "import itertools                                  \n",
    "n = 3                                           \n",
    "s = ['A', 'B', 'C', 'D', 'E', 'F']   "
   ]
  },
  {
   "cell_type": "code",
   "execution_count": 16,
   "id": "0d0e6eb7",
   "metadata": {},
   "outputs": [],
   "source": [
    "perm = itertools.product(s, repeat=n)             \n",
    "for i, j in enumerate(list(perm)):                \n",
    "    permutation = ''                              \n",
    "    for item in j:                                \n",
    "        permutation += str(item)                  \n",
    "    with open('answer1.txt', 'a') as text_file:    \n",
    "        print(permutation.strip(), file=text_file)"
   ]
  },
  {
   "cell_type": "code",
   "execution_count": null,
   "id": "dcd947d8",
   "metadata": {},
   "outputs": [],
   "source": []
  }
 ],
 "metadata": {
  "kernelspec": {
   "display_name": "Python 3 (ipykernel)",
   "language": "python",
   "name": "python3"
  },
  "language_info": {
   "codemirror_mode": {
    "name": "ipython",
    "version": 3
   },
   "file_extension": ".py",
   "mimetype": "text/x-python",
   "name": "python",
   "nbconvert_exporter": "python",
   "pygments_lexer": "ipython3",
   "version": "3.11.5"
  }
 },
 "nbformat": 4,
 "nbformat_minor": 5
}
