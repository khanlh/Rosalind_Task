{
 "cells": [
  {
   "cell_type": "code",
   "execution_count": 1,
   "id": "14967037",
   "metadata": {},
   "outputs": [],
   "source": [
    "from Bio import SeqIO                      "
   ]
  },
  {
   "cell_type": "code",
   "execution_count": 10,
   "id": "804f3385",
   "metadata": {},
   "outputs": [],
   "source": [
    "sequences = []                             \n",
    "handle = open('rosalind_sseq.txt', 'r')        "
   ]
  },
  {
   "cell_type": "code",
   "execution_count": 11,
   "id": "5e58ef57",
   "metadata": {},
   "outputs": [],
   "source": [
    "for record in SeqIO.parse(handle, 'fasta'):\n",
    "    sequences.append(str(record.seq))      \n",
    "handle.close()                             \n",
    "s = sequences[0]                           \n",
    "t = sequences[1]  "
   ]
  },
  {
   "cell_type": "code",
   "execution_count": 12,
   "id": "092f0bfd",
   "metadata": {},
   "outputs": [],
   "source": [
    "pos = 0                                    \n",
    "positions = [] "
   ]
  },
  {
   "cell_type": "code",
   "execution_count": 13,
   "id": "db895198",
   "metadata": {},
   "outputs": [
    {
     "name": "stdout",
     "output_type": "stream",
     "text": [
      "2 5 17 18 33 41 44 46 47 48 50 51 53 63 79 80 83 86 87 89 94 95 100 101 103 106 111 112 113 114 115 118 121 123 129 133 147 149 150 159 160 161 164 166 167 173 176 178 185 186 187 189 192 198 199 207 211 218 226 233 245 259 260 261 262 263 265 269 283 287 291 294 302 309 315 332 334 335\n"
     ]
    }
   ],
   "source": [
    "for i in range(len(t)):                    \n",
    "    for j in range(pos, len(s)):           \n",
    "        pos += 1                           \n",
    "        if len(positions) < len(t):        \n",
    "            if t[i] == s[j]:               \n",
    "                positions.append(pos)      \n",
    "                break                      \n",
    "print(*positions, sep=' ') "
   ]
  },
  {
   "cell_type": "code",
   "execution_count": null,
   "id": "a5f8fa8b",
   "metadata": {},
   "outputs": [],
   "source": []
  }
 ],
 "metadata": {
  "kernelspec": {
   "display_name": "Python 3 (ipykernel)",
   "language": "python",
   "name": "python3"
  },
  "language_info": {
   "codemirror_mode": {
    "name": "ipython",
    "version": 3
   },
   "file_extension": ".py",
   "mimetype": "text/x-python",
   "name": "python",
   "nbconvert_exporter": "python",
   "pygments_lexer": "ipython3",
   "version": "3.11.5"
  }
 },
 "nbformat": 4,
 "nbformat_minor": 5
}
