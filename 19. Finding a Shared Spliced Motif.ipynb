{
 "cells": [
  {
   "cell_type": "code",
   "execution_count": 1,
   "id": "dfcd2136",
   "metadata": {},
   "outputs": [],
   "source": [
    "from Bio import SeqIO"
   ]
  },
  {
   "cell_type": "code",
   "execution_count": 6,
   "id": "fd9b624a",
   "metadata": {},
   "outputs": [],
   "source": [
    "sequences = []\n",
    "handle = open('rosalind_lcsq.txt', 'r')"
   ]
  },
  {
   "cell_type": "code",
   "execution_count": 7,
   "id": "9007e413",
   "metadata": {},
   "outputs": [],
   "source": [
    "for record in SeqIO.parse(handle, 'fasta'):\n",
    "    sequences.append(str(record.seq))\n",
    "s = sequences[0]\n",
    "t = sequences[1]"
   ]
  },
  {
   "cell_type": "code",
   "execution_count": null,
   "id": "95df5f35",
   "metadata": {},
   "outputs": [],
   "source": []
  },
  {
   "cell_type": "code",
   "execution_count": 8,
   "id": "dd8c4c49",
   "metadata": {},
   "outputs": [],
   "source": [
    "lengths = [[0 for j in range(len(t) + 1)] for i in range(len(s) + 1)]\n",
    "\n",
    "for i, x in enumerate(s):\n",
    "    for j, y in enumerate(t):\n",
    "        if x == y:\n",
    "            lengths[i + 1][j + 1] = lengths[i][j] + 1\n",
    "        else:\n",
    "            lengths[i + 1][j + 1] = max(lengths[i + 1][j], lengths[i][j + 1])"
   ]
  },
  {
   "cell_type": "code",
   "execution_count": 9,
   "id": "6e6246d2",
   "metadata": {},
   "outputs": [
    {
     "name": "stdout",
     "output_type": "stream",
     "text": [
      "AATGAGCAACAGCTTCGATGGCAACCTGGCGTGCATTTCAGTGGCCATTCCTGCCCGCCACGCGTGGATGGCGGACCTCAGAATAGTTTTTGTTTTCTACGTCGCGGTGTAGATGTCCGCAAAGCCAGCGGACACCGATTGCAGAGCAACTACTGTCTTTTATGCACGAAACGGACTTGGTACGAGAACATCATTGTGGCTACGCGTTGCTTGATCCATCGTCGGTACCTACCACTGCAATTAGCCGCCAGACATTCAACCTAGGGACCGACACGCCTATACTAACACAACGTGTGTCAAAAGCCCTTCTAACCTGTATGTCCCGCAACTCTCTCGGTTTTGCTTTGCTATCTCTGCTGCCGCAGACACCCGGGGTGGCACTATGCCAGCATACTTATCTGGCGGTTTACAGCATGGCGTCACAGGCTAGACTCGTGCTAGCTCCAATACGGACAAGAATAACTACGTCTGACTGTGAGGATCGACGGGAATCCGACTCATTCGAAGTCTCGTCGGGGAAGCCGACGTGGCACTCCGAACAGCGGACAGACCCATAGTCCCTTGTCCCG\n"
     ]
    }
   ],
   "source": [
    "spliced_motif = ''\n",
    "x, y = len(s), len(t)\n",
    "while x * y != 0:\n",
    "    if lengths[x][y] == lengths[x - 1][y]:\n",
    "        x -= 1\n",
    "    elif lengths[x][y] == lengths[x][y - 1]:\n",
    "        y -= 1\n",
    "    else:\n",
    "        spliced_motif = s[x - 1] + spliced_motif\n",
    "        x -= 1\n",
    "        y -= 1\n",
    "print(spliced_motif)"
   ]
  },
  {
   "cell_type": "code",
   "execution_count": null,
   "id": "5ee2989a",
   "metadata": {},
   "outputs": [],
   "source": []
  }
 ],
 "metadata": {
  "kernelspec": {
   "display_name": "Python 3 (ipykernel)",
   "language": "python",
   "name": "python3"
  },
  "language_info": {
   "codemirror_mode": {
    "name": "ipython",
    "version": 3
   },
   "file_extension": ".py",
   "mimetype": "text/x-python",
   "name": "python",
   "nbconvert_exporter": "python",
   "pygments_lexer": "ipython3",
   "version": "3.11.5"
  }
 },
 "nbformat": 4,
 "nbformat_minor": 5
}
