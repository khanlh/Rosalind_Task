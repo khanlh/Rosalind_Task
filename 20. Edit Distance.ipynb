{
 "cells": [
  {
   "cell_type": "code",
   "execution_count": 1,
   "id": "ff19fd13",
   "metadata": {},
   "outputs": [],
   "source": [
    "from Bio import SeqIO"
   ]
  },
  {
   "cell_type": "code",
   "execution_count": 2,
   "id": "a7edbdc3",
   "metadata": {},
   "outputs": [],
   "source": [
    "seqs = []\n",
    "with open('rosalind_edit.txt', 'r') as f:\n",
    "    for record in SeqIO.parse(f, 'fasta'):\n",
    "        seqs.append(str(record.seq))\n",
    "s = seqs[0]\n",
    "t = seqs[1]\n",
    "M = [[0 for j in range(len(t) + 1)] for i in range(len(s) + 1)]\n",
    "for i in range(1, len(s) + 1):\n",
    "    M[i][0] = i\n",
    "for i in range(1, len(t) + 1):\n",
    "    M[0][i] = i"
   ]
  },
  {
   "cell_type": "code",
   "execution_count": 3,
   "id": "177f96a3",
   "metadata": {},
   "outputs": [
    {
     "name": "stdout",
     "output_type": "stream",
     "text": [
      "342\n"
     ]
    }
   ],
   "source": [
    "for i in range(1, len(s) + 1):\n",
    "    for j in range(1, len(t) + 1):\n",
    "        if s[i - 1] == t[j - 1]:\n",
    "            M[i][j] = M[i - 1][j - 1]\n",
    "        else:\n",
    "            M[i][j] = min(M[i - 1][j] + 1, M[i][j - 1] + 1,\n",
    "                          M[i - 1][j - 1] + 1)\n",
    "print(M[len(s)][len(t)])"
   ]
  },
  {
   "cell_type": "code",
   "execution_count": null,
   "id": "e7412e9d",
   "metadata": {},
   "outputs": [],
   "source": []
  }
 ],
 "metadata": {
  "kernelspec": {
   "display_name": "Python 3 (ipykernel)",
   "language": "python",
   "name": "python3"
  },
  "language_info": {
   "codemirror_mode": {
    "name": "ipython",
    "version": 3
   },
   "file_extension": ".py",
   "mimetype": "text/x-python",
   "name": "python",
   "nbconvert_exporter": "python",
   "pygments_lexer": "ipython3",
   "version": "3.11.5"
  }
 },
 "nbformat": 4,
 "nbformat_minor": 5
}
