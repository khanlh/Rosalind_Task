{
 "cells": [
  {
   "cell_type": "code",
   "execution_count": 4,
   "id": "ee90fa2e",
   "metadata": {},
   "outputs": [
    {
     "name": "stdout",
     "output_type": "stream",
     "text": [
      "TCACTTGAGTGTATCCCAGCCCAACCAAGGTGGTTGCCCCAGTTTCAGTAGTCCTGACTTATTGTTAGAGAAGGTTCATATATTCCAGCTGCATATTCAATGCGTGATCGGTAGAGTGAGTCCAAATAGCTCGGACTCCGAAGGGCCTTCCGTACACGCGATATTTTTCAAACCAGTTAATTCTCATGCCCAATGGAAAGCTCATATCTATCTTTGAAGGAGTCCGGCTAACAATATACACAACAAGGGAACTTCCCGTACTCATGCGTGCGACAATGCGTGTGTTGAACGACTTGGTGGGTAGAGATCGTACTCCATTAAGCTATTCTTTGGTTTGTGAGCTCAACATCCTAAGTAGAGAAGACTTGCCATTACTATCGGGACGCGAGTGTTGCGTCAACCGCTTCGGAGACTATAGTTGCATATAAATCCCGTGCCACCTATTGTAGCTACGGCTCTCCGCCCGTACCAGCACGCCCTTGATAGTCATTATCAATCATCATGGGGACAGGTATCACATTATACCGGAAGCTGAACACCACAATGACCAATCGACTCACATATGGAAGGATTGGCTGCTGATTATTCCACCGATCGCGCCCTGTATGTCCAAAGCCTAATGCCGTAGCCTTCACAGATGGTGATGTACTATGGAACGAACGGGCCAGTGCCAAGATGCTGGCAACCAATAAAACAGCTCCTCTTCCGCAGGGCTCTCTATTGTGCCCTCGAGGCGTAGTAGTAACCCTATCAGTTTACGGAGTCGCCGCCACTTTCTCGTGCGAAAGCTATTGTCAAGCAGACAAGACACAGTAAGTCTTATCCTCTTCAAAGTTTACTTCTCTTGTCCTTTGTCAACTCGTTCATCCCCTCGGAGTTTTAATCTATCCGATCAGATTCTAATGGGGCCAACGCCGTCAAGCGCAGGGACGGCGGTGTTGAGATTCCCTCACAGTAGAATGAACCCCGCTCGAGGCAGAGGCGGCATGTCTT\n"
     ]
    }
   ],
   "source": [
    "with open('rosalind_revc.txt', 'r') as file:\n",
    "    dna = file.read()\n",
    "    \n",
    "revc = dna[::-1]\n",
    "\n",
    "result = \"\"\n",
    "for i in range(len(revc)):\n",
    "    if revc[i] == \"A\":\n",
    "        result = result + \"T\"\n",
    "    elif revc[i] == \"T\":\n",
    "        result = result + \"A\"\n",
    "    elif revc[i] == \"C\":\n",
    "        result = result + \"G\"\n",
    "    elif revc[i] == \"G\":\n",
    "        result = result + \"C\"\n",
    "print(result)"
   ]
  },
  {
   "cell_type": "code",
   "execution_count": null,
   "id": "eeda502b",
   "metadata": {},
   "outputs": [],
   "source": []
  }
 ],
 "metadata": {
  "kernelspec": {
   "display_name": "Python 3 (ipykernel)",
   "language": "python",
   "name": "python3"
  },
  "language_info": {
   "codemirror_mode": {
    "name": "ipython",
    "version": 3
   },
   "file_extension": ".py",
   "mimetype": "text/x-python",
   "name": "python",
   "nbconvert_exporter": "python",
   "pygments_lexer": "ipython3",
   "version": "3.11.5"
  }
 },
 "nbformat": 4,
 "nbformat_minor": 5
}
