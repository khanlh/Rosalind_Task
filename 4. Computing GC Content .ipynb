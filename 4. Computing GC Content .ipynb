{
 "cells": [
  {
   "cell_type": "code",
   "execution_count": 2,
   "id": "252fee7b",
   "metadata": {},
   "outputs": [],
   "source": [
    "from __future__ import division"
   ]
  },
  {
   "cell_type": "code",
   "execution_count": 3,
   "id": "b215c090",
   "metadata": {},
   "outputs": [],
   "source": [
    "max_gc = 0.0"
   ]
  },
  {
   "cell_type": "code",
   "execution_count": 7,
   "id": "08d27da4",
   "metadata": {},
   "outputs": [
    {
     "name": "stdout",
     "output_type": "stream",
     "text": [
      "Rosalind_8214\n",
      "52.390640895218716\n"
     ]
    }
   ],
   "source": [
    "with open('rosalind_gc.txt') as f:\n",
    "    content = f.readlines()\n",
    "    for i, line in enumerate(content):\n",
    "        if line.startswith('>'):\n",
    "            id = line[1:]\n",
    "            # reset sequence string\n",
    "            seq = ''\n",
    "        else:\n",
    "            newseq = line.strip()\n",
    "            seq = seq + newseq\n",
    "            # print if last substring or if next substring starts with '>'\n",
    "            if i==len(content)-1 or content[i+1].startswith('>'):\n",
    "                gc = 100 * (seq.count('G') + seq.count('C')) / len(seq)\n",
    "                if gc > max_gc:\n",
    "                    max_gc = gc\n",
    "                    max_id = id\n",
    "\n",
    "print(max_id, end='')\n",
    "print(max_gc)"
   ]
  },
  {
   "cell_type": "code",
   "execution_count": null,
   "id": "e062e31b",
   "metadata": {},
   "outputs": [],
   "source": []
  }
 ],
 "metadata": {
  "kernelspec": {
   "display_name": "Python 3 (ipykernel)",
   "language": "python",
   "name": "python3"
  },
  "language_info": {
   "codemirror_mode": {
    "name": "ipython",
    "version": 3
   },
   "file_extension": ".py",
   "mimetype": "text/x-python",
   "name": "python",
   "nbconvert_exporter": "python",
   "pygments_lexer": "ipython3",
   "version": "3.11.5"
  }
 },
 "nbformat": 4,
 "nbformat_minor": 5
}
