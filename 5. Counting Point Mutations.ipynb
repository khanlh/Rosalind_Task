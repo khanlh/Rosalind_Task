{
 "cells": [
  {
   "cell_type": "code",
   "execution_count": 5,
   "id": "84be9ad9",
   "metadata": {},
   "outputs": [],
   "source": [
    "def distance(first,second):\n",
    "    distance = 0\n",
    "    for i in range(len(first)):\n",
    "        if first[i] != second[i]:\n",
    "            distance += 1\n",
    "    return distance"
   ]
  },
  {
   "cell_type": "code",
   "execution_count": 6,
   "id": "973b517a",
   "metadata": {},
   "outputs": [
    {
     "name": "stdout",
     "output_type": "stream",
     "text": [
      "460\n"
     ]
    }
   ],
   "source": [
    "with open('rosalind_hamm.txt','r') as file:\n",
    "    content = file.read()\n",
    "s, t = content.split()\n",
    "print(distance(s, t))"
   ]
  },
  {
   "cell_type": "code",
   "execution_count": null,
   "id": "c018af73",
   "metadata": {},
   "outputs": [],
   "source": []
  }
 ],
 "metadata": {
  "kernelspec": {
   "display_name": "Python 3 (ipykernel)",
   "language": "python",
   "name": "python3"
  },
  "language_info": {
   "codemirror_mode": {
    "name": "ipython",
    "version": 3
   },
   "file_extension": ".py",
   "mimetype": "text/x-python",
   "name": "python",
   "nbconvert_exporter": "python",
   "pygments_lexer": "ipython3",
   "version": "3.11.5"
  }
 },
 "nbformat": 4,
 "nbformat_minor": 5
}
