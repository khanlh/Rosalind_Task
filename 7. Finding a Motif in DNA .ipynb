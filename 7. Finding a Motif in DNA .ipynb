{
 "cells": [
  {
   "cell_type": "code",
   "execution_count": 5,
   "id": "93a0e50a",
   "metadata": {},
   "outputs": [],
   "source": [
    "text = 'CACGCAGGATCCGCAGGACAGCGCAGGACTCGCAGGACCGCTACCGCAGGATCCACGCAGGACGCAGGACGCAGGATACGCAGGAGTGTCGCAGGACGCAGGATTTTCTCGCAGGAGCGCAGGACGCAGGACGCCGCAGGATTTACGCAGGACGCAGGACGCAGGATCCCGCAGGATTCCCGCAGGACTACGCAGGAGCGCAGGATTTGGGAAATCGCAGGATCTCCGCAGGATACGCAGGACCGCAGGAGTAACGCAGGAGGCGCAGGATCGCAGGACGCGTCGCAGGACGCAGGATACCGCAGGACGCAGGACGCAGGACGTGCGCAGGATCCGCAGGACGCAGGAGCCGCAGGAAGCGCAGGAGACCCTAACGCAGGAGTTGTAGTAAGTGAGCGCAGGAGCCATCGCAGGATGAATCGCAGGATCGCAGGACACTCGCAGGACCGCAGGATCGCAGGATCGCAGGAACGCAGGATGCGACGCAGGACGCAGGAACGCGCAGGACGCAGGACGCAGGAGGTCGCAGGACGCAGGATCCGTTTCGCAGGAGGAACGCAGGAACGCAGGACGCAGGACGCAGGACGCAGGAACGCAGGAGCTCGCAGGACGCAGGAACGGCGCAGGATGCGCAGGACCGCAGGACTCGCAGGAGGTCCGCAGGAGCCCGCAGGACGCAGGATGGCCTCATCGCAGGAACACGCAGGATACCGCAGGACGCAGGAAATACGCAGGAAACCGCAGGACCGCAGGACACGCAGGACGCAGGAGCGCAGGACCGTCGCAGGACGCAGGACGCAGGACGCAGGATCGCAGGAGAGTCGGACGGACGCAGGATCGCAGGACCCCCGTGACCGCAGGACGCAGGACGCAGGATCGCAGGATGCGTTCCGCAGGACGCAGGACGCAGGATGCGCAGGACTTCTGCGCAGGAATCGCAGGACCGCAGGAATCCGCAGGA'\n",
    "pattern = 'CGCAGGACG'"
   ]
  },
  {
   "cell_type": "code",
   "execution_count": 6,
   "id": "821e4921",
   "metadata": {},
   "outputs": [],
   "source": [
    "m = len(pattern)\n",
    "n = len(text)"
   ]
  },
  {
   "cell_type": "code",
   "execution_count": 7,
   "id": "9ef56623",
   "metadata": {},
   "outputs": [
    {
     "name": "stdout",
     "output_type": "stream",
     "text": [
      "56 63 90 118 125 146 153 272 284 301 308 315 335 484 501 508 525 565 572 579 604 669 712 757 783 790 797 856 863 892 899 "
     ]
    }
   ],
   "source": [
    "for i in range(0, n - m + 1, 1):\n",
    "    if text[i: i + m] == pattern:\n",
    "        print(i + 1, end=' ')"
   ]
  },
  {
   "cell_type": "code",
   "execution_count": null,
   "id": "b6f88cdd",
   "metadata": {},
   "outputs": [],
   "source": []
  }
 ],
 "metadata": {
  "kernelspec": {
   "display_name": "Python 3 (ipykernel)",
   "language": "python",
   "name": "python3"
  },
  "language_info": {
   "codemirror_mode": {
    "name": "ipython",
    "version": 3
   },
   "file_extension": ".py",
   "mimetype": "text/x-python",
   "name": "python",
   "nbconvert_exporter": "python",
   "pygments_lexer": "ipython3",
   "version": "3.11.5"
  }
 },
 "nbformat": 4,
 "nbformat_minor": 5
}
