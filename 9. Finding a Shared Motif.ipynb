{
 "cells": [
  {
   "cell_type": "code",
   "execution_count": 6,
   "id": "f64442aa",
   "metadata": {},
   "outputs": [],
   "source": [
    "from Bio import SeqIO                      \n",
    "sequences = []                             \n",
    "handle = open('rosalind_lcsm.txt', 'r')  \n",
    "\n",
    "for record in SeqIO.parse(handle, 'fasta'):\n",
    "    sequence = []                          \n",
    "    seq = ''                               \n",
    "    for nt in record.seq:                  \n",
    "        seq += nt                          \n",
    "    sequences.append(seq)                  \n",
    "handle.close()"
   ]
  },
  {
   "cell_type": "code",
   "execution_count": null,
   "id": "e837683e",
   "metadata": {},
   "outputs": [],
   "source": []
  },
  {
   "cell_type": "code",
   "execution_count": 7,
   "id": "9860f4b9",
   "metadata": {},
   "outputs": [
    {
     "name": "stdout",
     "output_type": "stream",
     "text": [
      "CGTATCTCGGAACGACACTGTTACTTCGTCACCATCGCTATGCATACTATTAGCTATCTCCATTAGTCGGATGACGTACAGGCGGACAAACAGCAATTAGCGCAGGTTTAAGATAACTCTGCAAGGTAGTTTATTGTACTTGCTACAAGCGCCATCGCGCCTCCAGGCTGACGATTAGTAGTTCCAGCAAGGGCATATACGTCGAGAACGATGATTCTCCTCTGAGAGTTGGTTGTGAGGTCGGGTTCACGGACCTAAGA\n"
     ]
    }
   ],
   "source": [
    "srt_seq = sorted(sequences, key=len)     \n",
    "short_seq = srt_seq[0]                   \n",
    "comp_seq = srt_seq[1:]                   \n",
    "motif = ''                               \n",
    "for i in range(len(short_seq)):          \n",
    "    for j in range(i, len(short_seq)):   \n",
    "        m = short_seq[i:j + 1]           \n",
    "        found = False                    \n",
    "        for sequ in comp_seq:            \n",
    "            if m in sequ:                \n",
    "                found = True             \n",
    "            else:                        \n",
    "                found = False            \n",
    "                break                    \n",
    "        if found and len(m) > len(motif):\n",
    "            motif = m                    \n",
    "print(motif)  "
   ]
  },
  {
   "cell_type": "code",
   "execution_count": null,
   "id": "d09f4770",
   "metadata": {},
   "outputs": [],
   "source": []
  },
  {
   "cell_type": "code",
   "execution_count": null,
   "id": "5b2faf5e",
   "metadata": {},
   "outputs": [],
   "source": []
  }
 ],
 "metadata": {
  "kernelspec": {
   "display_name": "Python 3 (ipykernel)",
   "language": "python",
   "name": "python3"
  },
  "language_info": {
   "codemirror_mode": {
    "name": "ipython",
    "version": 3
   },
   "file_extension": ".py",
   "mimetype": "text/x-python",
   "name": "python",
   "nbconvert_exporter": "python",
   "pygments_lexer": "ipython3",
   "version": "3.11.5"
  }
 },
 "nbformat": 4,
 "nbformat_minor": 5
}
